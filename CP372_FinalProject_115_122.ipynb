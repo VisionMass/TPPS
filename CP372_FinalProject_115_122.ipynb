{
  "nbformat": 4,
  "nbformat_minor": 0,
  "metadata": {
    "colab": {
      "provenance": []
    },
    "kernelspec": {
      "name": "python3",
      "display_name": "Python 3"
    },
    "language_info": {
      "name": "python"
    }
  },
  "cells": [
    {
      "cell_type": "markdown",
      "source": [
        "#INTRODUCTION\n",
        "\n",
        "\n",
        "This notebook demonstrates the process of cleaning and transforming the \"Customer Shopping Trends Dataset\" to prepare it for analysis. The dataset includes various customer-related attributes such as age, gender, purchase details, and subscription status. The steps involve importing the dataset, inspecting its structure, handling missing or duplicate data, and engineering new features to enhance its analytical value.\n",
        "\n"
      ],
      "metadata": {
        "id": "EYA953ZTppVv"
      }
    },
    {
      "cell_type": "markdown",
      "source": [
        " 📌Customer ID - Unique identifier for each customer.\n",
        "\n",
        "📌 Age - Age of the customer.\n",
        "\n",
        "📌 Gender - Gender of the customer (Male/Female).\n",
        "\n",
        "📌 Item Purchased - The item purchased by the customer.\n",
        "\n",
        "📌 Category - Category of the item purchased.\n",
        "\n",
        "📌 Purchase Amount (USD) - The amount of the purchase in USD.\n",
        "\n",
        "📌 Location - Location where the purchase was made.\n",
        "\n",
        "📌 Size - Size of the purchased item.\n",
        "\n",
        "📌 Color - Color of the purchased item.\n",
        "\n",
        "📌 Season - Season during which the purchase was made.\n",
        "\n",
        "📌 Review Rating - Rating given by the customer for the purchased item.\n",
        "\n",
        "📌 Subscription Status - Indicates if the customer has a subscription (Yes/No).\n",
        "\n",
        "📌 Shipping Type - Type of shipping chosen by the customer.\n",
        "\n",
        "📌 Discount Applied - Indicates if a discount was applied to the purchase (Yes/No).\n",
        "\n",
        "📌 Promo Code Used - Indicates if a promo code was used for the purchase (Yes/No).\n",
        "\n",
        "📌 Previous Purchases - Number of previous purchases made by the customer.\n",
        "\n",
        "📌 Payment Method - Customer's most preferred payment method.\n",
        "\n",
        "📌 Frequency of Purchases - Frequency at which the customer makes purchases (e.g., Weekly, Fortnightly, Monthly).\n"
      ],
      "metadata": {
        "id": "uzt4PWjRpgyK"
      }
    },
    {
      "cell_type": "markdown",
      "source": [
        "#IMPORT LIBRARY AND KAGGLE FILE"
      ],
      "metadata": {
        "id": "ZRAhGKTA_oir"
      }
    },
    {
      "cell_type": "markdown",
      "source": [
        "##### Step 1: Import Required Libraries\n",
        "We begin by importing the necessary Python libraries for data analysis:\n",
        "- `pandas` for handling dataframes\n",
        "- `numpy` for numerical operations\n"
      ],
      "metadata": {
        "id": "YUINUCTSAhoQ"
      }
    },
    {
      "cell_type": "code",
      "source": [
        "import pandas as pd\n",
        "import numpy as np\n"
      ],
      "metadata": {
        "id": "f29S2td0jmAL"
      },
      "execution_count": 13,
      "outputs": []
    },
    {
      "cell_type": "markdown",
      "source": [
        "##Step 2: Download Dataset from Kaggle\n",
        "Using the kagglehub library, the dataset is downloaded directly from Kaggle."
      ],
      "metadata": {
        "id": "fmYi4RN9A02t"
      }
    },
    {
      "cell_type": "code",
      "execution_count": 14,
      "metadata": {
        "colab": {
          "base_uri": "https://localhost:8080/"
        },
        "id": "IHrfsM7ujgzN",
        "outputId": "68ea7731-013f-48a9-b461-1612092dd812"
      },
      "outputs": [
        {
          "output_type": "stream",
          "name": "stdout",
          "text": [
            "Path to dataset files: /kaggle/input/customer-shopping-trends-dataset\n"
          ]
        }
      ],
      "source": [
        "import kagglehub\n",
        "\n",
        "# Download latest version\n",
        "path = kagglehub.dataset_download(\"iamsouravbanerjee/customer-shopping-trends-dataset\")\n",
        "\n",
        "print(\"Path to dataset files:\", path)"
      ]
    },
    {
      "cell_type": "markdown",
      "source": [
        "#Initial Data Overview"
      ],
      "metadata": {
        "id": "uRN3Fmbm_vs0"
      }
    },
    {
      "cell_type": "markdown",
      "source": [
        "##Step 3. Load the Dataset\n",
        "The dataset is loaded into a pandas DataFrame for further processing."
      ],
      "metadata": {
        "id": "hjTlp23TA-rf"
      }
    },
    {
      "cell_type": "code",
      "source": [
        "data = pd.read_csv(path + \"/shopping_trends.csv\")\n",
        "data.sample(5)"
      ],
      "metadata": {
        "colab": {
          "base_uri": "https://localhost:8080/",
          "height": 310
        },
        "id": "gxX1JgAzkQs9",
        "outputId": "6048ea95-c01b-4c9f-e59d-6426f0db01a8"
      },
      "execution_count": 15,
      "outputs": [
        {
          "output_type": "execute_result",
          "data": {
            "text/plain": [
              "      Customer ID  Age  Gender Item Purchased     Category  \\\n",
              "3581         3582   26  Female          Dress     Clothing   \n",
              "565           566   59    Male       Backpack  Accessories   \n",
              "2045         2046   31    Male        Jewelry  Accessories   \n",
              "1902         1903   31    Male        Sandals     Footwear   \n",
              "2917         2918   58  Female          Shirt     Clothing   \n",
              "\n",
              "      Purchase Amount (USD)    Location Size     Color  Season  Review Rating  \\\n",
              "3581                     95     Georgia    M    Orange    Fall            4.9   \n",
              "565                      43       Idaho    L  Lavender    Fall            4.2   \n",
              "2045                     20     Georgia    M       Red    Fall            4.4   \n",
              "1902                     22  New Mexico    S     Olive  Spring            5.0   \n",
              "2917                     45    Colorado   XL     White  Winter            2.9   \n",
              "\n",
              "     Subscription Status Payment Method Shipping Type Discount Applied  \\\n",
              "3581                  No          Venmo  Next Day Air               No   \n",
              "565                  Yes  Bank Transfer  Store Pickup              Yes   \n",
              "2045                  No         PayPal       Express               No   \n",
              "1902                  No  Bank Transfer  Store Pickup               No   \n",
              "2917                  No           Cash  Store Pickup               No   \n",
              "\n",
              "     Promo Code Used  Previous Purchases Preferred Payment Method  \\\n",
              "3581              No                  50              Credit Card   \n",
              "565              Yes                  10                    Venmo   \n",
              "2045              No                  26                   PayPal   \n",
              "1902              No                  21                    Venmo   \n",
              "2917              No                  50                    Venmo   \n",
              "\n",
              "     Frequency of Purchases  \n",
              "3581                 Weekly  \n",
              "565                  Weekly  \n",
              "2045              Quarterly  \n",
              "1902                Monthly  \n",
              "2917               Annually  "
            ],
            "text/html": [
              "\n",
              "  <div id=\"df-7d96ae6a-2d48-40d2-9e18-011d86d91962\" class=\"colab-df-container\">\n",
              "    <div>\n",
              "<style scoped>\n",
              "    .dataframe tbody tr th:only-of-type {\n",
              "        vertical-align: middle;\n",
              "    }\n",
              "\n",
              "    .dataframe tbody tr th {\n",
              "        vertical-align: top;\n",
              "    }\n",
              "\n",
              "    .dataframe thead th {\n",
              "        text-align: right;\n",
              "    }\n",
              "</style>\n",
              "<table border=\"1\" class=\"dataframe\">\n",
              "  <thead>\n",
              "    <tr style=\"text-align: right;\">\n",
              "      <th></th>\n",
              "      <th>Customer ID</th>\n",
              "      <th>Age</th>\n",
              "      <th>Gender</th>\n",
              "      <th>Item Purchased</th>\n",
              "      <th>Category</th>\n",
              "      <th>Purchase Amount (USD)</th>\n",
              "      <th>Location</th>\n",
              "      <th>Size</th>\n",
              "      <th>Color</th>\n",
              "      <th>Season</th>\n",
              "      <th>Review Rating</th>\n",
              "      <th>Subscription Status</th>\n",
              "      <th>Payment Method</th>\n",
              "      <th>Shipping Type</th>\n",
              "      <th>Discount Applied</th>\n",
              "      <th>Promo Code Used</th>\n",
              "      <th>Previous Purchases</th>\n",
              "      <th>Preferred Payment Method</th>\n",
              "      <th>Frequency of Purchases</th>\n",
              "    </tr>\n",
              "  </thead>\n",
              "  <tbody>\n",
              "    <tr>\n",
              "      <th>3581</th>\n",
              "      <td>3582</td>\n",
              "      <td>26</td>\n",
              "      <td>Female</td>\n",
              "      <td>Dress</td>\n",
              "      <td>Clothing</td>\n",
              "      <td>95</td>\n",
              "      <td>Georgia</td>\n",
              "      <td>M</td>\n",
              "      <td>Orange</td>\n",
              "      <td>Fall</td>\n",
              "      <td>4.9</td>\n",
              "      <td>No</td>\n",
              "      <td>Venmo</td>\n",
              "      <td>Next Day Air</td>\n",
              "      <td>No</td>\n",
              "      <td>No</td>\n",
              "      <td>50</td>\n",
              "      <td>Credit Card</td>\n",
              "      <td>Weekly</td>\n",
              "    </tr>\n",
              "    <tr>\n",
              "      <th>565</th>\n",
              "      <td>566</td>\n",
              "      <td>59</td>\n",
              "      <td>Male</td>\n",
              "      <td>Backpack</td>\n",
              "      <td>Accessories</td>\n",
              "      <td>43</td>\n",
              "      <td>Idaho</td>\n",
              "      <td>L</td>\n",
              "      <td>Lavender</td>\n",
              "      <td>Fall</td>\n",
              "      <td>4.2</td>\n",
              "      <td>Yes</td>\n",
              "      <td>Bank Transfer</td>\n",
              "      <td>Store Pickup</td>\n",
              "      <td>Yes</td>\n",
              "      <td>Yes</td>\n",
              "      <td>10</td>\n",
              "      <td>Venmo</td>\n",
              "      <td>Weekly</td>\n",
              "    </tr>\n",
              "    <tr>\n",
              "      <th>2045</th>\n",
              "      <td>2046</td>\n",
              "      <td>31</td>\n",
              "      <td>Male</td>\n",
              "      <td>Jewelry</td>\n",
              "      <td>Accessories</td>\n",
              "      <td>20</td>\n",
              "      <td>Georgia</td>\n",
              "      <td>M</td>\n",
              "      <td>Red</td>\n",
              "      <td>Fall</td>\n",
              "      <td>4.4</td>\n",
              "      <td>No</td>\n",
              "      <td>PayPal</td>\n",
              "      <td>Express</td>\n",
              "      <td>No</td>\n",
              "      <td>No</td>\n",
              "      <td>26</td>\n",
              "      <td>PayPal</td>\n",
              "      <td>Quarterly</td>\n",
              "    </tr>\n",
              "    <tr>\n",
              "      <th>1902</th>\n",
              "      <td>1903</td>\n",
              "      <td>31</td>\n",
              "      <td>Male</td>\n",
              "      <td>Sandals</td>\n",
              "      <td>Footwear</td>\n",
              "      <td>22</td>\n",
              "      <td>New Mexico</td>\n",
              "      <td>S</td>\n",
              "      <td>Olive</td>\n",
              "      <td>Spring</td>\n",
              "      <td>5.0</td>\n",
              "      <td>No</td>\n",
              "      <td>Bank Transfer</td>\n",
              "      <td>Store Pickup</td>\n",
              "      <td>No</td>\n",
              "      <td>No</td>\n",
              "      <td>21</td>\n",
              "      <td>Venmo</td>\n",
              "      <td>Monthly</td>\n",
              "    </tr>\n",
              "    <tr>\n",
              "      <th>2917</th>\n",
              "      <td>2918</td>\n",
              "      <td>58</td>\n",
              "      <td>Female</td>\n",
              "      <td>Shirt</td>\n",
              "      <td>Clothing</td>\n",
              "      <td>45</td>\n",
              "      <td>Colorado</td>\n",
              "      <td>XL</td>\n",
              "      <td>White</td>\n",
              "      <td>Winter</td>\n",
              "      <td>2.9</td>\n",
              "      <td>No</td>\n",
              "      <td>Cash</td>\n",
              "      <td>Store Pickup</td>\n",
              "      <td>No</td>\n",
              "      <td>No</td>\n",
              "      <td>50</td>\n",
              "      <td>Venmo</td>\n",
              "      <td>Annually</td>\n",
              "    </tr>\n",
              "  </tbody>\n",
              "</table>\n",
              "</div>\n",
              "    <div class=\"colab-df-buttons\">\n",
              "\n",
              "  <div class=\"colab-df-container\">\n",
              "    <button class=\"colab-df-convert\" onclick=\"convertToInteractive('df-7d96ae6a-2d48-40d2-9e18-011d86d91962')\"\n",
              "            title=\"Convert this dataframe to an interactive table.\"\n",
              "            style=\"display:none;\">\n",
              "\n",
              "  <svg xmlns=\"http://www.w3.org/2000/svg\" height=\"24px\" viewBox=\"0 -960 960 960\">\n",
              "    <path d=\"M120-120v-720h720v720H120Zm60-500h600v-160H180v160Zm220 220h160v-160H400v160Zm0 220h160v-160H400v160ZM180-400h160v-160H180v160Zm440 0h160v-160H620v160ZM180-180h160v-160H180v160Zm440 0h160v-160H620v160Z\"/>\n",
              "  </svg>\n",
              "    </button>\n",
              "\n",
              "  <style>\n",
              "    .colab-df-container {\n",
              "      display:flex;\n",
              "      gap: 12px;\n",
              "    }\n",
              "\n",
              "    .colab-df-convert {\n",
              "      background-color: #E8F0FE;\n",
              "      border: none;\n",
              "      border-radius: 50%;\n",
              "      cursor: pointer;\n",
              "      display: none;\n",
              "      fill: #1967D2;\n",
              "      height: 32px;\n",
              "      padding: 0 0 0 0;\n",
              "      width: 32px;\n",
              "    }\n",
              "\n",
              "    .colab-df-convert:hover {\n",
              "      background-color: #E2EBFA;\n",
              "      box-shadow: 0px 1px 2px rgba(60, 64, 67, 0.3), 0px 1px 3px 1px rgba(60, 64, 67, 0.15);\n",
              "      fill: #174EA6;\n",
              "    }\n",
              "\n",
              "    .colab-df-buttons div {\n",
              "      margin-bottom: 4px;\n",
              "    }\n",
              "\n",
              "    [theme=dark] .colab-df-convert {\n",
              "      background-color: #3B4455;\n",
              "      fill: #D2E3FC;\n",
              "    }\n",
              "\n",
              "    [theme=dark] .colab-df-convert:hover {\n",
              "      background-color: #434B5C;\n",
              "      box-shadow: 0px 1px 3px 1px rgba(0, 0, 0, 0.15);\n",
              "      filter: drop-shadow(0px 1px 2px rgba(0, 0, 0, 0.3));\n",
              "      fill: #FFFFFF;\n",
              "    }\n",
              "  </style>\n",
              "\n",
              "    <script>\n",
              "      const buttonEl =\n",
              "        document.querySelector('#df-7d96ae6a-2d48-40d2-9e18-011d86d91962 button.colab-df-convert');\n",
              "      buttonEl.style.display =\n",
              "        google.colab.kernel.accessAllowed ? 'block' : 'none';\n",
              "\n",
              "      async function convertToInteractive(key) {\n",
              "        const element = document.querySelector('#df-7d96ae6a-2d48-40d2-9e18-011d86d91962');\n",
              "        const dataTable =\n",
              "          await google.colab.kernel.invokeFunction('convertToInteractive',\n",
              "                                                    [key], {});\n",
              "        if (!dataTable) return;\n",
              "\n",
              "        const docLinkHtml = 'Like what you see? Visit the ' +\n",
              "          '<a target=\"_blank\" href=https://colab.research.google.com/notebooks/data_table.ipynb>data table notebook</a>'\n",
              "          + ' to learn more about interactive tables.';\n",
              "        element.innerHTML = '';\n",
              "        dataTable['output_type'] = 'display_data';\n",
              "        await google.colab.output.renderOutput(dataTable, element);\n",
              "        const docLink = document.createElement('div');\n",
              "        docLink.innerHTML = docLinkHtml;\n",
              "        element.appendChild(docLink);\n",
              "      }\n",
              "    </script>\n",
              "  </div>\n",
              "\n",
              "\n",
              "    <div id=\"df-a97d49b0-fcef-4c8c-9f1f-4b2148daee33\">\n",
              "      <button class=\"colab-df-quickchart\" onclick=\"quickchart('df-a97d49b0-fcef-4c8c-9f1f-4b2148daee33')\"\n",
              "                title=\"Suggest charts\"\n",
              "                style=\"display:none;\">\n",
              "\n",
              "<svg xmlns=\"http://www.w3.org/2000/svg\" height=\"24px\"viewBox=\"0 0 24 24\"\n",
              "     width=\"24px\">\n",
              "    <g>\n",
              "        <path d=\"M19 3H5c-1.1 0-2 .9-2 2v14c0 1.1.9 2 2 2h14c1.1 0 2-.9 2-2V5c0-1.1-.9-2-2-2zM9 17H7v-7h2v7zm4 0h-2V7h2v10zm4 0h-2v-4h2v4z\"/>\n",
              "    </g>\n",
              "</svg>\n",
              "      </button>\n",
              "\n",
              "<style>\n",
              "  .colab-df-quickchart {\n",
              "      --bg-color: #E8F0FE;\n",
              "      --fill-color: #1967D2;\n",
              "      --hover-bg-color: #E2EBFA;\n",
              "      --hover-fill-color: #174EA6;\n",
              "      --disabled-fill-color: #AAA;\n",
              "      --disabled-bg-color: #DDD;\n",
              "  }\n",
              "\n",
              "  [theme=dark] .colab-df-quickchart {\n",
              "      --bg-color: #3B4455;\n",
              "      --fill-color: #D2E3FC;\n",
              "      --hover-bg-color: #434B5C;\n",
              "      --hover-fill-color: #FFFFFF;\n",
              "      --disabled-bg-color: #3B4455;\n",
              "      --disabled-fill-color: #666;\n",
              "  }\n",
              "\n",
              "  .colab-df-quickchart {\n",
              "    background-color: var(--bg-color);\n",
              "    border: none;\n",
              "    border-radius: 50%;\n",
              "    cursor: pointer;\n",
              "    display: none;\n",
              "    fill: var(--fill-color);\n",
              "    height: 32px;\n",
              "    padding: 0;\n",
              "    width: 32px;\n",
              "  }\n",
              "\n",
              "  .colab-df-quickchart:hover {\n",
              "    background-color: var(--hover-bg-color);\n",
              "    box-shadow: 0 1px 2px rgba(60, 64, 67, 0.3), 0 1px 3px 1px rgba(60, 64, 67, 0.15);\n",
              "    fill: var(--button-hover-fill-color);\n",
              "  }\n",
              "\n",
              "  .colab-df-quickchart-complete:disabled,\n",
              "  .colab-df-quickchart-complete:disabled:hover {\n",
              "    background-color: var(--disabled-bg-color);\n",
              "    fill: var(--disabled-fill-color);\n",
              "    box-shadow: none;\n",
              "  }\n",
              "\n",
              "  .colab-df-spinner {\n",
              "    border: 2px solid var(--fill-color);\n",
              "    border-color: transparent;\n",
              "    border-bottom-color: var(--fill-color);\n",
              "    animation:\n",
              "      spin 1s steps(1) infinite;\n",
              "  }\n",
              "\n",
              "  @keyframes spin {\n",
              "    0% {\n",
              "      border-color: transparent;\n",
              "      border-bottom-color: var(--fill-color);\n",
              "      border-left-color: var(--fill-color);\n",
              "    }\n",
              "    20% {\n",
              "      border-color: transparent;\n",
              "      border-left-color: var(--fill-color);\n",
              "      border-top-color: var(--fill-color);\n",
              "    }\n",
              "    30% {\n",
              "      border-color: transparent;\n",
              "      border-left-color: var(--fill-color);\n",
              "      border-top-color: var(--fill-color);\n",
              "      border-right-color: var(--fill-color);\n",
              "    }\n",
              "    40% {\n",
              "      border-color: transparent;\n",
              "      border-right-color: var(--fill-color);\n",
              "      border-top-color: var(--fill-color);\n",
              "    }\n",
              "    60% {\n",
              "      border-color: transparent;\n",
              "      border-right-color: var(--fill-color);\n",
              "    }\n",
              "    80% {\n",
              "      border-color: transparent;\n",
              "      border-right-color: var(--fill-color);\n",
              "      border-bottom-color: var(--fill-color);\n",
              "    }\n",
              "    90% {\n",
              "      border-color: transparent;\n",
              "      border-bottom-color: var(--fill-color);\n",
              "    }\n",
              "  }\n",
              "</style>\n",
              "\n",
              "      <script>\n",
              "        async function quickchart(key) {\n",
              "          const quickchartButtonEl =\n",
              "            document.querySelector('#' + key + ' button');\n",
              "          quickchartButtonEl.disabled = true;  // To prevent multiple clicks.\n",
              "          quickchartButtonEl.classList.add('colab-df-spinner');\n",
              "          try {\n",
              "            const charts = await google.colab.kernel.invokeFunction(\n",
              "                'suggestCharts', [key], {});\n",
              "          } catch (error) {\n",
              "            console.error('Error during call to suggestCharts:', error);\n",
              "          }\n",
              "          quickchartButtonEl.classList.remove('colab-df-spinner');\n",
              "          quickchartButtonEl.classList.add('colab-df-quickchart-complete');\n",
              "        }\n",
              "        (() => {\n",
              "          let quickchartButtonEl =\n",
              "            document.querySelector('#df-a97d49b0-fcef-4c8c-9f1f-4b2148daee33 button');\n",
              "          quickchartButtonEl.style.display =\n",
              "            google.colab.kernel.accessAllowed ? 'block' : 'none';\n",
              "        })();\n",
              "      </script>\n",
              "    </div>\n",
              "\n",
              "    </div>\n",
              "  </div>\n"
            ],
            "application/vnd.google.colaboratory.intrinsic+json": {
              "type": "dataframe",
              "summary": "{\n  \"name\": \"data\",\n  \"rows\": 5,\n  \"fields\": [\n    {\n      \"column\": \"Customer ID\",\n      \"properties\": {\n        \"dtype\": \"number\",\n        \"std\": 1140,\n        \"min\": 566,\n        \"max\": 3582,\n        \"num_unique_values\": 5,\n        \"samples\": [\n          566,\n          2918,\n          2046\n        ],\n        \"semantic_type\": \"\",\n        \"description\": \"\"\n      }\n    },\n    {\n      \"column\": \"Age\",\n      \"properties\": {\n        \"dtype\": \"number\",\n        \"std\": 16,\n        \"min\": 26,\n        \"max\": 59,\n        \"num_unique_values\": 4,\n        \"samples\": [\n          59,\n          58,\n          26\n        ],\n        \"semantic_type\": \"\",\n        \"description\": \"\"\n      }\n    },\n    {\n      \"column\": \"Gender\",\n      \"properties\": {\n        \"dtype\": \"category\",\n        \"num_unique_values\": 2,\n        \"samples\": [\n          \"Male\",\n          \"Female\"\n        ],\n        \"semantic_type\": \"\",\n        \"description\": \"\"\n      }\n    },\n    {\n      \"column\": \"Item Purchased\",\n      \"properties\": {\n        \"dtype\": \"string\",\n        \"num_unique_values\": 5,\n        \"samples\": [\n          \"Backpack\",\n          \"Shirt\"\n        ],\n        \"semantic_type\": \"\",\n        \"description\": \"\"\n      }\n    },\n    {\n      \"column\": \"Category\",\n      \"properties\": {\n        \"dtype\": \"string\",\n        \"num_unique_values\": 3,\n        \"samples\": [\n          \"Clothing\",\n          \"Accessories\"\n        ],\n        \"semantic_type\": \"\",\n        \"description\": \"\"\n      }\n    },\n    {\n      \"column\": \"Purchase Amount (USD)\",\n      \"properties\": {\n        \"dtype\": \"number\",\n        \"std\": 30,\n        \"min\": 20,\n        \"max\": 95,\n        \"num_unique_values\": 5,\n        \"samples\": [\n          43,\n          45\n        ],\n        \"semantic_type\": \"\",\n        \"description\": \"\"\n      }\n    },\n    {\n      \"column\": \"Location\",\n      \"properties\": {\n        \"dtype\": \"string\",\n        \"num_unique_values\": 4,\n        \"samples\": [\n          \"Idaho\",\n          \"Colorado\"\n        ],\n        \"semantic_type\": \"\",\n        \"description\": \"\"\n      }\n    },\n    {\n      \"column\": \"Size\",\n      \"properties\": {\n        \"dtype\": \"string\",\n        \"num_unique_values\": 4,\n        \"samples\": [\n          \"L\",\n          \"XL\"\n        ],\n        \"semantic_type\": \"\",\n        \"description\": \"\"\n      }\n    },\n    {\n      \"column\": \"Color\",\n      \"properties\": {\n        \"dtype\": \"string\",\n        \"num_unique_values\": 5,\n        \"samples\": [\n          \"Lavender\",\n          \"White\"\n        ],\n        \"semantic_type\": \"\",\n        \"description\": \"\"\n      }\n    },\n    {\n      \"column\": \"Season\",\n      \"properties\": {\n        \"dtype\": \"string\",\n        \"num_unique_values\": 3,\n        \"samples\": [\n          \"Fall\",\n          \"Spring\"\n        ],\n        \"semantic_type\": \"\",\n        \"description\": \"\"\n      }\n    },\n    {\n      \"column\": \"Review Rating\",\n      \"properties\": {\n        \"dtype\": \"number\",\n        \"std\": 0.8408329203831164,\n        \"min\": 2.9,\n        \"max\": 5.0,\n        \"num_unique_values\": 5,\n        \"samples\": [\n          4.2,\n          2.9\n        ],\n        \"semantic_type\": \"\",\n        \"description\": \"\"\n      }\n    },\n    {\n      \"column\": \"Subscription Status\",\n      \"properties\": {\n        \"dtype\": \"category\",\n        \"num_unique_values\": 2,\n        \"samples\": [\n          \"Yes\",\n          \"No\"\n        ],\n        \"semantic_type\": \"\",\n        \"description\": \"\"\n      }\n    },\n    {\n      \"column\": \"Payment Method\",\n      \"properties\": {\n        \"dtype\": \"string\",\n        \"num_unique_values\": 4,\n        \"samples\": [\n          \"Bank Transfer\",\n          \"Cash\"\n        ],\n        \"semantic_type\": \"\",\n        \"description\": \"\"\n      }\n    },\n    {\n      \"column\": \"Shipping Type\",\n      \"properties\": {\n        \"dtype\": \"string\",\n        \"num_unique_values\": 3,\n        \"samples\": [\n          \"Next Day Air\",\n          \"Store Pickup\"\n        ],\n        \"semantic_type\": \"\",\n        \"description\": \"\"\n      }\n    },\n    {\n      \"column\": \"Discount Applied\",\n      \"properties\": {\n        \"dtype\": \"category\",\n        \"num_unique_values\": 2,\n        \"samples\": [\n          \"Yes\",\n          \"No\"\n        ],\n        \"semantic_type\": \"\",\n        \"description\": \"\"\n      }\n    },\n    {\n      \"column\": \"Promo Code Used\",\n      \"properties\": {\n        \"dtype\": \"category\",\n        \"num_unique_values\": 2,\n        \"samples\": [\n          \"Yes\",\n          \"No\"\n        ],\n        \"semantic_type\": \"\",\n        \"description\": \"\"\n      }\n    },\n    {\n      \"column\": \"Previous Purchases\",\n      \"properties\": {\n        \"dtype\": \"number\",\n        \"std\": 17,\n        \"min\": 10,\n        \"max\": 50,\n        \"num_unique_values\": 4,\n        \"samples\": [\n          10,\n          21\n        ],\n        \"semantic_type\": \"\",\n        \"description\": \"\"\n      }\n    },\n    {\n      \"column\": \"Preferred Payment Method\",\n      \"properties\": {\n        \"dtype\": \"string\",\n        \"num_unique_values\": 3,\n        \"samples\": [\n          \"Credit Card\",\n          \"Venmo\"\n        ],\n        \"semantic_type\": \"\",\n        \"description\": \"\"\n      }\n    },\n    {\n      \"column\": \"Frequency of Purchases\",\n      \"properties\": {\n        \"dtype\": \"string\",\n        \"num_unique_values\": 4,\n        \"samples\": [\n          \"Quarterly\",\n          \"Annually\"\n        ],\n        \"semantic_type\": \"\",\n        \"description\": \"\"\n      }\n    }\n  ]\n}"
            }
          },
          "metadata": {},
          "execution_count": 15
        }
      ]
    },
    {
      "cell_type": "markdown",
      "source": [
        "##Step 4: Inspect the Dataset\n",
        "We inspect the dataset to understand its structure and identify potential issues."
      ],
      "metadata": {
        "id": "p257nPCHBC__"
      }
    },
    {
      "cell_type": "markdown",
      "source": [
        "###Using  `.shape` to see how many columns and rows"
      ],
      "metadata": {
        "id": "9LhY2Kf5BFjl"
      }
    },
    {
      "cell_type": "code",
      "source": [
        "data.shape"
      ],
      "metadata": {
        "colab": {
          "base_uri": "https://localhost:8080/"
        },
        "id": "AIB1QcDAo3Cj",
        "outputId": "778b4cac-e1e2-4c75-b2bd-df886be440f2"
      },
      "execution_count": 16,
      "outputs": [
        {
          "output_type": "execute_result",
          "data": {
            "text/plain": [
              "(3900, 19)"
            ]
          },
          "metadata": {},
          "execution_count": 16
        }
      ]
    },
    {
      "cell_type": "markdown",
      "source": [
        "###Using `.columns` to View column names"
      ],
      "metadata": {
        "id": "8jNgd1aQBTYU"
      }
    },
    {
      "cell_type": "code",
      "source": [
        "data.columns"
      ],
      "metadata": {
        "colab": {
          "base_uri": "https://localhost:8080/"
        },
        "id": "HoZiHAxIpC2D",
        "outputId": "9e148095-6243-4a80-b844-5be13e5e4bda"
      },
      "execution_count": 17,
      "outputs": [
        {
          "output_type": "execute_result",
          "data": {
            "text/plain": [
              "Index(['Customer ID', 'Age', 'Gender', 'Item Purchased', 'Category',\n",
              "       'Purchase Amount (USD)', 'Location', 'Size', 'Color', 'Season',\n",
              "       'Review Rating', 'Subscription Status', 'Payment Method',\n",
              "       'Shipping Type', 'Discount Applied', 'Promo Code Used',\n",
              "       'Previous Purchases', 'Preferred Payment Method',\n",
              "       'Frequency of Purchases'],\n",
              "      dtype='object')"
            ]
          },
          "metadata": {},
          "execution_count": 17
        }
      ]
    },
    {
      "cell_type": "markdown",
      "source": [
        "### Using  `.info()`  to Get dataset information"
      ],
      "metadata": {
        "id": "DYVW8YnjHc3l"
      }
    },
    {
      "cell_type": "code",
      "source": [
        "data.info()"
      ],
      "metadata": {
        "colab": {
          "base_uri": "https://localhost:8080/"
        },
        "id": "a9OL3IOupFwL",
        "outputId": "670ad6b2-f581-475b-edfe-b4793b144302"
      },
      "execution_count": 18,
      "outputs": [
        {
          "output_type": "stream",
          "name": "stdout",
          "text": [
            "<class 'pandas.core.frame.DataFrame'>\n",
            "RangeIndex: 3900 entries, 0 to 3899\n",
            "Data columns (total 19 columns):\n",
            " #   Column                    Non-Null Count  Dtype  \n",
            "---  ------                    --------------  -----  \n",
            " 0   Customer ID               3900 non-null   int64  \n",
            " 1   Age                       3900 non-null   int64  \n",
            " 2   Gender                    3900 non-null   object \n",
            " 3   Item Purchased            3900 non-null   object \n",
            " 4   Category                  3900 non-null   object \n",
            " 5   Purchase Amount (USD)     3900 non-null   int64  \n",
            " 6   Location                  3900 non-null   object \n",
            " 7   Size                      3900 non-null   object \n",
            " 8   Color                     3900 non-null   object \n",
            " 9   Season                    3900 non-null   object \n",
            " 10  Review Rating             3900 non-null   float64\n",
            " 11  Subscription Status       3900 non-null   object \n",
            " 12  Payment Method            3900 non-null   object \n",
            " 13  Shipping Type             3900 non-null   object \n",
            " 14  Discount Applied          3900 non-null   object \n",
            " 15  Promo Code Used           3900 non-null   object \n",
            " 16  Previous Purchases        3900 non-null   int64  \n",
            " 17  Preferred Payment Method  3900 non-null   object \n",
            " 18  Frequency of Purchases    3900 non-null   object \n",
            "dtypes: float64(1), int64(4), object(14)\n",
            "memory usage: 579.0+ KB\n"
          ]
        }
      ]
    },
    {
      "cell_type": "markdown",
      "source": [
        "### Using  `.describe()`  to View summary statistics"
      ],
      "metadata": {
        "id": "owl26UzfHtFB"
      }
    },
    {
      "cell_type": "code",
      "source": [
        "data.describe()"
      ],
      "metadata": {
        "colab": {
          "base_uri": "https://localhost:8080/",
          "height": 300
        },
        "id": "RNIyu_9MpXdL",
        "outputId": "78d1ac85-c300-493e-f118-da467548f15f"
      },
      "execution_count": 19,
      "outputs": [
        {
          "output_type": "execute_result",
          "data": {
            "text/plain": [
              "       Customer ID          Age  Purchase Amount (USD)  Review Rating  \\\n",
              "count  3900.000000  3900.000000            3900.000000    3900.000000   \n",
              "mean   1950.500000    44.068462              59.764359       3.749949   \n",
              "std    1125.977353    15.207589              23.685392       0.716223   \n",
              "min       1.000000    18.000000              20.000000       2.500000   \n",
              "25%     975.750000    31.000000              39.000000       3.100000   \n",
              "50%    1950.500000    44.000000              60.000000       3.700000   \n",
              "75%    2925.250000    57.000000              81.000000       4.400000   \n",
              "max    3900.000000    70.000000             100.000000       5.000000   \n",
              "\n",
              "       Previous Purchases  \n",
              "count         3900.000000  \n",
              "mean            25.351538  \n",
              "std             14.447125  \n",
              "min              1.000000  \n",
              "25%             13.000000  \n",
              "50%             25.000000  \n",
              "75%             38.000000  \n",
              "max             50.000000  "
            ],
            "text/html": [
              "\n",
              "  <div id=\"df-57f88d50-c261-40ea-9d51-eeedfc092fa2\" class=\"colab-df-container\">\n",
              "    <div>\n",
              "<style scoped>\n",
              "    .dataframe tbody tr th:only-of-type {\n",
              "        vertical-align: middle;\n",
              "    }\n",
              "\n",
              "    .dataframe tbody tr th {\n",
              "        vertical-align: top;\n",
              "    }\n",
              "\n",
              "    .dataframe thead th {\n",
              "        text-align: right;\n",
              "    }\n",
              "</style>\n",
              "<table border=\"1\" class=\"dataframe\">\n",
              "  <thead>\n",
              "    <tr style=\"text-align: right;\">\n",
              "      <th></th>\n",
              "      <th>Customer ID</th>\n",
              "      <th>Age</th>\n",
              "      <th>Purchase Amount (USD)</th>\n",
              "      <th>Review Rating</th>\n",
              "      <th>Previous Purchases</th>\n",
              "    </tr>\n",
              "  </thead>\n",
              "  <tbody>\n",
              "    <tr>\n",
              "      <th>count</th>\n",
              "      <td>3900.000000</td>\n",
              "      <td>3900.000000</td>\n",
              "      <td>3900.000000</td>\n",
              "      <td>3900.000000</td>\n",
              "      <td>3900.000000</td>\n",
              "    </tr>\n",
              "    <tr>\n",
              "      <th>mean</th>\n",
              "      <td>1950.500000</td>\n",
              "      <td>44.068462</td>\n",
              "      <td>59.764359</td>\n",
              "      <td>3.749949</td>\n",
              "      <td>25.351538</td>\n",
              "    </tr>\n",
              "    <tr>\n",
              "      <th>std</th>\n",
              "      <td>1125.977353</td>\n",
              "      <td>15.207589</td>\n",
              "      <td>23.685392</td>\n",
              "      <td>0.716223</td>\n",
              "      <td>14.447125</td>\n",
              "    </tr>\n",
              "    <tr>\n",
              "      <th>min</th>\n",
              "      <td>1.000000</td>\n",
              "      <td>18.000000</td>\n",
              "      <td>20.000000</td>\n",
              "      <td>2.500000</td>\n",
              "      <td>1.000000</td>\n",
              "    </tr>\n",
              "    <tr>\n",
              "      <th>25%</th>\n",
              "      <td>975.750000</td>\n",
              "      <td>31.000000</td>\n",
              "      <td>39.000000</td>\n",
              "      <td>3.100000</td>\n",
              "      <td>13.000000</td>\n",
              "    </tr>\n",
              "    <tr>\n",
              "      <th>50%</th>\n",
              "      <td>1950.500000</td>\n",
              "      <td>44.000000</td>\n",
              "      <td>60.000000</td>\n",
              "      <td>3.700000</td>\n",
              "      <td>25.000000</td>\n",
              "    </tr>\n",
              "    <tr>\n",
              "      <th>75%</th>\n",
              "      <td>2925.250000</td>\n",
              "      <td>57.000000</td>\n",
              "      <td>81.000000</td>\n",
              "      <td>4.400000</td>\n",
              "      <td>38.000000</td>\n",
              "    </tr>\n",
              "    <tr>\n",
              "      <th>max</th>\n",
              "      <td>3900.000000</td>\n",
              "      <td>70.000000</td>\n",
              "      <td>100.000000</td>\n",
              "      <td>5.000000</td>\n",
              "      <td>50.000000</td>\n",
              "    </tr>\n",
              "  </tbody>\n",
              "</table>\n",
              "</div>\n",
              "    <div class=\"colab-df-buttons\">\n",
              "\n",
              "  <div class=\"colab-df-container\">\n",
              "    <button class=\"colab-df-convert\" onclick=\"convertToInteractive('df-57f88d50-c261-40ea-9d51-eeedfc092fa2')\"\n",
              "            title=\"Convert this dataframe to an interactive table.\"\n",
              "            style=\"display:none;\">\n",
              "\n",
              "  <svg xmlns=\"http://www.w3.org/2000/svg\" height=\"24px\" viewBox=\"0 -960 960 960\">\n",
              "    <path d=\"M120-120v-720h720v720H120Zm60-500h600v-160H180v160Zm220 220h160v-160H400v160Zm0 220h160v-160H400v160ZM180-400h160v-160H180v160Zm440 0h160v-160H620v160ZM180-180h160v-160H180v160Zm440 0h160v-160H620v160Z\"/>\n",
              "  </svg>\n",
              "    </button>\n",
              "\n",
              "  <style>\n",
              "    .colab-df-container {\n",
              "      display:flex;\n",
              "      gap: 12px;\n",
              "    }\n",
              "\n",
              "    .colab-df-convert {\n",
              "      background-color: #E8F0FE;\n",
              "      border: none;\n",
              "      border-radius: 50%;\n",
              "      cursor: pointer;\n",
              "      display: none;\n",
              "      fill: #1967D2;\n",
              "      height: 32px;\n",
              "      padding: 0 0 0 0;\n",
              "      width: 32px;\n",
              "    }\n",
              "\n",
              "    .colab-df-convert:hover {\n",
              "      background-color: #E2EBFA;\n",
              "      box-shadow: 0px 1px 2px rgba(60, 64, 67, 0.3), 0px 1px 3px 1px rgba(60, 64, 67, 0.15);\n",
              "      fill: #174EA6;\n",
              "    }\n",
              "\n",
              "    .colab-df-buttons div {\n",
              "      margin-bottom: 4px;\n",
              "    }\n",
              "\n",
              "    [theme=dark] .colab-df-convert {\n",
              "      background-color: #3B4455;\n",
              "      fill: #D2E3FC;\n",
              "    }\n",
              "\n",
              "    [theme=dark] .colab-df-convert:hover {\n",
              "      background-color: #434B5C;\n",
              "      box-shadow: 0px 1px 3px 1px rgba(0, 0, 0, 0.15);\n",
              "      filter: drop-shadow(0px 1px 2px rgba(0, 0, 0, 0.3));\n",
              "      fill: #FFFFFF;\n",
              "    }\n",
              "  </style>\n",
              "\n",
              "    <script>\n",
              "      const buttonEl =\n",
              "        document.querySelector('#df-57f88d50-c261-40ea-9d51-eeedfc092fa2 button.colab-df-convert');\n",
              "      buttonEl.style.display =\n",
              "        google.colab.kernel.accessAllowed ? 'block' : 'none';\n",
              "\n",
              "      async function convertToInteractive(key) {\n",
              "        const element = document.querySelector('#df-57f88d50-c261-40ea-9d51-eeedfc092fa2');\n",
              "        const dataTable =\n",
              "          await google.colab.kernel.invokeFunction('convertToInteractive',\n",
              "                                                    [key], {});\n",
              "        if (!dataTable) return;\n",
              "\n",
              "        const docLinkHtml = 'Like what you see? Visit the ' +\n",
              "          '<a target=\"_blank\" href=https://colab.research.google.com/notebooks/data_table.ipynb>data table notebook</a>'\n",
              "          + ' to learn more about interactive tables.';\n",
              "        element.innerHTML = '';\n",
              "        dataTable['output_type'] = 'display_data';\n",
              "        await google.colab.output.renderOutput(dataTable, element);\n",
              "        const docLink = document.createElement('div');\n",
              "        docLink.innerHTML = docLinkHtml;\n",
              "        element.appendChild(docLink);\n",
              "      }\n",
              "    </script>\n",
              "  </div>\n",
              "\n",
              "\n",
              "    <div id=\"df-57f8e715-63d1-4868-bae3-21e32bb722be\">\n",
              "      <button class=\"colab-df-quickchart\" onclick=\"quickchart('df-57f8e715-63d1-4868-bae3-21e32bb722be')\"\n",
              "                title=\"Suggest charts\"\n",
              "                style=\"display:none;\">\n",
              "\n",
              "<svg xmlns=\"http://www.w3.org/2000/svg\" height=\"24px\"viewBox=\"0 0 24 24\"\n",
              "     width=\"24px\">\n",
              "    <g>\n",
              "        <path d=\"M19 3H5c-1.1 0-2 .9-2 2v14c0 1.1.9 2 2 2h14c1.1 0 2-.9 2-2V5c0-1.1-.9-2-2-2zM9 17H7v-7h2v7zm4 0h-2V7h2v10zm4 0h-2v-4h2v4z\"/>\n",
              "    </g>\n",
              "</svg>\n",
              "      </button>\n",
              "\n",
              "<style>\n",
              "  .colab-df-quickchart {\n",
              "      --bg-color: #E8F0FE;\n",
              "      --fill-color: #1967D2;\n",
              "      --hover-bg-color: #E2EBFA;\n",
              "      --hover-fill-color: #174EA6;\n",
              "      --disabled-fill-color: #AAA;\n",
              "      --disabled-bg-color: #DDD;\n",
              "  }\n",
              "\n",
              "  [theme=dark] .colab-df-quickchart {\n",
              "      --bg-color: #3B4455;\n",
              "      --fill-color: #D2E3FC;\n",
              "      --hover-bg-color: #434B5C;\n",
              "      --hover-fill-color: #FFFFFF;\n",
              "      --disabled-bg-color: #3B4455;\n",
              "      --disabled-fill-color: #666;\n",
              "  }\n",
              "\n",
              "  .colab-df-quickchart {\n",
              "    background-color: var(--bg-color);\n",
              "    border: none;\n",
              "    border-radius: 50%;\n",
              "    cursor: pointer;\n",
              "    display: none;\n",
              "    fill: var(--fill-color);\n",
              "    height: 32px;\n",
              "    padding: 0;\n",
              "    width: 32px;\n",
              "  }\n",
              "\n",
              "  .colab-df-quickchart:hover {\n",
              "    background-color: var(--hover-bg-color);\n",
              "    box-shadow: 0 1px 2px rgba(60, 64, 67, 0.3), 0 1px 3px 1px rgba(60, 64, 67, 0.15);\n",
              "    fill: var(--button-hover-fill-color);\n",
              "  }\n",
              "\n",
              "  .colab-df-quickchart-complete:disabled,\n",
              "  .colab-df-quickchart-complete:disabled:hover {\n",
              "    background-color: var(--disabled-bg-color);\n",
              "    fill: var(--disabled-fill-color);\n",
              "    box-shadow: none;\n",
              "  }\n",
              "\n",
              "  .colab-df-spinner {\n",
              "    border: 2px solid var(--fill-color);\n",
              "    border-color: transparent;\n",
              "    border-bottom-color: var(--fill-color);\n",
              "    animation:\n",
              "      spin 1s steps(1) infinite;\n",
              "  }\n",
              "\n",
              "  @keyframes spin {\n",
              "    0% {\n",
              "      border-color: transparent;\n",
              "      border-bottom-color: var(--fill-color);\n",
              "      border-left-color: var(--fill-color);\n",
              "    }\n",
              "    20% {\n",
              "      border-color: transparent;\n",
              "      border-left-color: var(--fill-color);\n",
              "      border-top-color: var(--fill-color);\n",
              "    }\n",
              "    30% {\n",
              "      border-color: transparent;\n",
              "      border-left-color: var(--fill-color);\n",
              "      border-top-color: var(--fill-color);\n",
              "      border-right-color: var(--fill-color);\n",
              "    }\n",
              "    40% {\n",
              "      border-color: transparent;\n",
              "      border-right-color: var(--fill-color);\n",
              "      border-top-color: var(--fill-color);\n",
              "    }\n",
              "    60% {\n",
              "      border-color: transparent;\n",
              "      border-right-color: var(--fill-color);\n",
              "    }\n",
              "    80% {\n",
              "      border-color: transparent;\n",
              "      border-right-color: var(--fill-color);\n",
              "      border-bottom-color: var(--fill-color);\n",
              "    }\n",
              "    90% {\n",
              "      border-color: transparent;\n",
              "      border-bottom-color: var(--fill-color);\n",
              "    }\n",
              "  }\n",
              "</style>\n",
              "\n",
              "      <script>\n",
              "        async function quickchart(key) {\n",
              "          const quickchartButtonEl =\n",
              "            document.querySelector('#' + key + ' button');\n",
              "          quickchartButtonEl.disabled = true;  // To prevent multiple clicks.\n",
              "          quickchartButtonEl.classList.add('colab-df-spinner');\n",
              "          try {\n",
              "            const charts = await google.colab.kernel.invokeFunction(\n",
              "                'suggestCharts', [key], {});\n",
              "          } catch (error) {\n",
              "            console.error('Error during call to suggestCharts:', error);\n",
              "          }\n",
              "          quickchartButtonEl.classList.remove('colab-df-spinner');\n",
              "          quickchartButtonEl.classList.add('colab-df-quickchart-complete');\n",
              "        }\n",
              "        (() => {\n",
              "          let quickchartButtonEl =\n",
              "            document.querySelector('#df-57f8e715-63d1-4868-bae3-21e32bb722be button');\n",
              "          quickchartButtonEl.style.display =\n",
              "            google.colab.kernel.accessAllowed ? 'block' : 'none';\n",
              "        })();\n",
              "      </script>\n",
              "    </div>\n",
              "\n",
              "    </div>\n",
              "  </div>\n"
            ],
            "application/vnd.google.colaboratory.intrinsic+json": {
              "type": "dataframe",
              "summary": "{\n  \"name\": \"data\",\n  \"rows\": 8,\n  \"fields\": [\n    {\n      \"column\": \"Customer ID\",\n      \"properties\": {\n        \"dtype\": \"number\",\n        \"std\": 1405.274081775269,\n        \"min\": 1.0,\n        \"max\": 3900.0,\n        \"num_unique_values\": 6,\n        \"samples\": [\n          3900.0,\n          1950.5,\n          2925.25\n        ],\n        \"semantic_type\": \"\",\n        \"description\": \"\"\n      }\n    },\n    {\n      \"column\": \"Age\",\n      \"properties\": {\n        \"dtype\": \"number\",\n        \"std\": 1364.878318051572,\n        \"min\": 15.20758912716238,\n        \"max\": 3900.0,\n        \"num_unique_values\": 8,\n        \"samples\": [\n          44.06846153846154,\n          44.0,\n          3900.0\n        ],\n        \"semantic_type\": \"\",\n        \"description\": \"\"\n      }\n    },\n    {\n      \"column\": \"Purchase Amount (USD)\",\n      \"properties\": {\n        \"dtype\": \"number\",\n        \"std\": 1359.7647934740537,\n        \"min\": 20.0,\n        \"max\": 3900.0,\n        \"num_unique_values\": 8,\n        \"samples\": [\n          59.76435897435898,\n          60.0,\n          3900.0\n        ],\n        \"semantic_type\": \"\",\n        \"description\": \"\"\n      }\n    },\n    {\n      \"column\": \"Review Rating\",\n      \"properties\": {\n        \"dtype\": \"number\",\n        \"std\": 1377.6887676679473,\n        \"min\": 0.7162228139312449,\n        \"max\": 3900.0,\n        \"num_unique_values\": 8,\n        \"samples\": [\n          3.7499487179487176,\n          3.7,\n          3900.0\n        ],\n        \"semantic_type\": \"\",\n        \"description\": \"\"\n      }\n    },\n    {\n      \"column\": \"Previous Purchases\",\n      \"properties\": {\n        \"dtype\": \"number\",\n        \"std\": 1370.5178374100155,\n        \"min\": 1.0,\n        \"max\": 3900.0,\n        \"num_unique_values\": 8,\n        \"samples\": [\n          25.35153846153846,\n          25.0,\n          3900.0\n        ],\n        \"semantic_type\": \"\",\n        \"description\": \"\"\n      }\n    }\n  ]\n}"
            }
          },
          "metadata": {},
          "execution_count": 19
        }
      ]
    },
    {
      "cell_type": "markdown",
      "source": [
        "### Using  `.isnull().sum()`Check for missing values"
      ],
      "metadata": {
        "id": "ygiDJ8QMIDSt"
      }
    },
    {
      "cell_type": "code",
      "source": [
        "missing_values = data.isnull().sum()\n",
        "missing_values"
      ],
      "metadata": {
        "colab": {
          "base_uri": "https://localhost:8080/",
          "height": 679
        },
        "id": "9zOgLmsRpYV0",
        "outputId": "8305a8fe-ea9d-463b-9a1b-5b193221696e"
      },
      "execution_count": 20,
      "outputs": [
        {
          "output_type": "execute_result",
          "data": {
            "text/plain": [
              "Customer ID                 0\n",
              "Age                         0\n",
              "Gender                      0\n",
              "Item Purchased              0\n",
              "Category                    0\n",
              "Purchase Amount (USD)       0\n",
              "Location                    0\n",
              "Size                        0\n",
              "Color                       0\n",
              "Season                      0\n",
              "Review Rating               0\n",
              "Subscription Status         0\n",
              "Payment Method              0\n",
              "Shipping Type               0\n",
              "Discount Applied            0\n",
              "Promo Code Used             0\n",
              "Previous Purchases          0\n",
              "Preferred Payment Method    0\n",
              "Frequency of Purchases      0\n",
              "dtype: int64"
            ],
            "text/html": [
              "<div>\n",
              "<style scoped>\n",
              "    .dataframe tbody tr th:only-of-type {\n",
              "        vertical-align: middle;\n",
              "    }\n",
              "\n",
              "    .dataframe tbody tr th {\n",
              "        vertical-align: top;\n",
              "    }\n",
              "\n",
              "    .dataframe thead th {\n",
              "        text-align: right;\n",
              "    }\n",
              "</style>\n",
              "<table border=\"1\" class=\"dataframe\">\n",
              "  <thead>\n",
              "    <tr style=\"text-align: right;\">\n",
              "      <th></th>\n",
              "      <th>0</th>\n",
              "    </tr>\n",
              "  </thead>\n",
              "  <tbody>\n",
              "    <tr>\n",
              "      <th>Customer ID</th>\n",
              "      <td>0</td>\n",
              "    </tr>\n",
              "    <tr>\n",
              "      <th>Age</th>\n",
              "      <td>0</td>\n",
              "    </tr>\n",
              "    <tr>\n",
              "      <th>Gender</th>\n",
              "      <td>0</td>\n",
              "    </tr>\n",
              "    <tr>\n",
              "      <th>Item Purchased</th>\n",
              "      <td>0</td>\n",
              "    </tr>\n",
              "    <tr>\n",
              "      <th>Category</th>\n",
              "      <td>0</td>\n",
              "    </tr>\n",
              "    <tr>\n",
              "      <th>Purchase Amount (USD)</th>\n",
              "      <td>0</td>\n",
              "    </tr>\n",
              "    <tr>\n",
              "      <th>Location</th>\n",
              "      <td>0</td>\n",
              "    </tr>\n",
              "    <tr>\n",
              "      <th>Size</th>\n",
              "      <td>0</td>\n",
              "    </tr>\n",
              "    <tr>\n",
              "      <th>Color</th>\n",
              "      <td>0</td>\n",
              "    </tr>\n",
              "    <tr>\n",
              "      <th>Season</th>\n",
              "      <td>0</td>\n",
              "    </tr>\n",
              "    <tr>\n",
              "      <th>Review Rating</th>\n",
              "      <td>0</td>\n",
              "    </tr>\n",
              "    <tr>\n",
              "      <th>Subscription Status</th>\n",
              "      <td>0</td>\n",
              "    </tr>\n",
              "    <tr>\n",
              "      <th>Payment Method</th>\n",
              "      <td>0</td>\n",
              "    </tr>\n",
              "    <tr>\n",
              "      <th>Shipping Type</th>\n",
              "      <td>0</td>\n",
              "    </tr>\n",
              "    <tr>\n",
              "      <th>Discount Applied</th>\n",
              "      <td>0</td>\n",
              "    </tr>\n",
              "    <tr>\n",
              "      <th>Promo Code Used</th>\n",
              "      <td>0</td>\n",
              "    </tr>\n",
              "    <tr>\n",
              "      <th>Previous Purchases</th>\n",
              "      <td>0</td>\n",
              "    </tr>\n",
              "    <tr>\n",
              "      <th>Preferred Payment Method</th>\n",
              "      <td>0</td>\n",
              "    </tr>\n",
              "    <tr>\n",
              "      <th>Frequency of Purchases</th>\n",
              "      <td>0</td>\n",
              "    </tr>\n",
              "  </tbody>\n",
              "</table>\n",
              "</div><br><label><b>dtype:</b> int64</label>"
            ]
          },
          "metadata": {},
          "execution_count": 20
        }
      ]
    },
    {
      "cell_type": "markdown",
      "source": [
        "### Using  `.duplicated().sum()` Check for duplicate rows:"
      ],
      "metadata": {
        "id": "WIyb5nvVIPow"
      }
    },
    {
      "cell_type": "code",
      "source": [
        "duplicated_rows = data.duplicated().sum()\n",
        "duplicated_rows"
      ],
      "metadata": {
        "colab": {
          "base_uri": "https://localhost:8080/"
        },
        "id": "pIdC9oQJpa9k",
        "outputId": "0d8c3fd4-958a-44a2-dcf6-74b22ea16eb9"
      },
      "execution_count": 21,
      "outputs": [
        {
          "output_type": "execute_result",
          "data": {
            "text/plain": [
              "np.int64(0)"
            ]
          },
          "metadata": {},
          "execution_count": 21
        }
      ]
    },
    {
      "cell_type": "markdown",
      "source": [
        "#Step 5: Feature Engineering\n",
        "\n",
        "New features are created to enhance the dataset's analytical value.\n"
      ],
      "metadata": {
        "id": "-PMwijCfqCYy"
      }
    },
    {
      "cell_type": "markdown",
      "source": [
        "\n",
        "\n",
        "*  Age Group: Categorize customers into age groups. `(Teen,Young,Adult,Middle Age and Senior)`\n",
        "*  Price Category: Categorize price based on the amount. `[0, 20(low), 50(Medium), 80(High), 100(Permium)]`\n",
        "*  Discount Flag: Create a binary flag for discount `If have discount 1 then 0`\n",
        "*  Profit Margin: Calculate a 30% profit margin from the purchase amount.\n",
        "*  Loyalty Score: Combine previous purchases and subscription status to calculate a loyalty score.`if have subscription status plus 10 score then plus 0 `\n",
        "*AVG Spending: caculate customer averange spending"
      ],
      "metadata": {
        "id": "C6-Ce6W9ImyR"
      }
    },
    {
      "cell_type": "code",
      "source": [
        "# 1. ฟีเจอร์ Age Group\n",
        "data['Age Group'] = pd.cut(data['Age'], bins=[0, 18, 35, 50, 65, 100],\n",
        "                         labels=['Teen', 'Young Adult', 'Adult', 'Middle Age', 'Senior'])\n",
        "\n",
        "# 2. Price Category\n",
        "data['Price Category'] = pd.cut(data['Purchase Amount (USD)'],\n",
        "                                 bins=[0, 20, 50, 80, 100],\n",
        "                                 labels=['Low', 'Medium', 'High', 'Premium'])\n",
        "\n",
        "# 3. Discount Flag\n",
        "data['Has Discount'] = data['Discount Applied'].apply(lambda x: 1 if x == 'Yes' else 0)\n",
        "\n",
        "\n",
        "#4 profit margin 30% from Purchase Amount\n",
        "data['Profit Margin (USD)'] = data['Purchase Amount (USD)'] * 0.3\n",
        "\n",
        "# 5. Loyalty Score (จาก Previous Purchases และ Subscription)\n",
        "data['Loyalty Score'] = data['Previous Purchases'] + data['Subscription Status'].map({'Yes': 10, 'No': 0})\n",
        "\n",
        "#6 caculate customer averange spending\n",
        "data['AVG Spending'] = data.groupby('Customer ID')['Purchase Amount (USD)'].transform('mean')"
      ],
      "metadata": {
        "id": "x2O5kAbBp1FP"
      },
      "execution_count": 23,
      "outputs": []
    },
    {
      "cell_type": "markdown",
      "source": [
        "#Step 7: Transform Data Into CSV file for another process and download file"
      ],
      "metadata": {
        "id": "5uzxhEhUP16K"
      }
    },
    {
      "cell_type": "code",
      "source": [
        "data.to_csv(\"shopping_trends_feature_engineered.csv\", index=False)"
      ],
      "metadata": {
        "id": "aCjIse5ZsEnM"
      },
      "execution_count": 24,
      "outputs": []
    },
    {
      "cell_type": "code",
      "source": [
        "from google.colab import files\n",
        "files.download('shopping_trends_feature_engineered.csv')"
      ],
      "metadata": {
        "colab": {
          "base_uri": "https://localhost:8080/",
          "height": 17
        },
        "id": "M9FGdGDXsXT8",
        "outputId": "8726ba0d-54d1-4f55-e380-243a5783d098"
      },
      "execution_count": 25,
      "outputs": [
        {
          "output_type": "display_data",
          "data": {
            "text/plain": [
              "<IPython.core.display.Javascript object>"
            ],
            "application/javascript": [
              "\n",
              "    async function download(id, filename, size) {\n",
              "      if (!google.colab.kernel.accessAllowed) {\n",
              "        return;\n",
              "      }\n",
              "      const div = document.createElement('div');\n",
              "      const label = document.createElement('label');\n",
              "      label.textContent = `Downloading \"${filename}\": `;\n",
              "      div.appendChild(label);\n",
              "      const progress = document.createElement('progress');\n",
              "      progress.max = size;\n",
              "      div.appendChild(progress);\n",
              "      document.body.appendChild(div);\n",
              "\n",
              "      const buffers = [];\n",
              "      let downloaded = 0;\n",
              "\n",
              "      const channel = await google.colab.kernel.comms.open(id);\n",
              "      // Send a message to notify the kernel that we're ready.\n",
              "      channel.send({})\n",
              "\n",
              "      for await (const message of channel.messages) {\n",
              "        // Send a message to notify the kernel that we're ready.\n",
              "        channel.send({})\n",
              "        if (message.buffers) {\n",
              "          for (const buffer of message.buffers) {\n",
              "            buffers.push(buffer);\n",
              "            downloaded += buffer.byteLength;\n",
              "            progress.value = downloaded;\n",
              "          }\n",
              "        }\n",
              "      }\n",
              "      const blob = new Blob(buffers, {type: 'application/binary'});\n",
              "      const a = document.createElement('a');\n",
              "      a.href = window.URL.createObjectURL(blob);\n",
              "      a.download = filename;\n",
              "      div.appendChild(a);\n",
              "      a.click();\n",
              "      div.remove();\n",
              "    }\n",
              "  "
            ]
          },
          "metadata": {}
        },
        {
          "output_type": "display_data",
          "data": {
            "text/plain": [
              "<IPython.core.display.Javascript object>"
            ],
            "application/javascript": [
              "download(\"download_8f653668-4d76-40b6-a768-02efe40569d5\", \"shopping_trends_feature_engineered.csv\", 582125)"
            ]
          },
          "metadata": {}
        }
      ]
    },
    {
      "cell_type": "markdown",
      "source": [
        "# Summary\n",
        "In this notebook, we:\n",
        "1. Imported the necessary libraries and downloaded the dataset from Kaggle.\n",
        "2. Loaded the dataset into a pandas DataFrame for exploration.\n",
        "3. Inspected the dataset for missing values, duplicates, and overall structure.\n",
        "4. Engineered new features such as age groups, purchase categories, discount flags, profit margins, and loyalty scores.\n",
        "5. Saved the cleaned and transformed dataset as a CSV file for further analysis.\n",
        "\n",
        "This process ensures the dataset is well-prepared for any subsequent data analysis or machine learning tasks."
      ],
      "metadata": {
        "id": "oQDYJla1L73h"
      }
    }
  ]
}
